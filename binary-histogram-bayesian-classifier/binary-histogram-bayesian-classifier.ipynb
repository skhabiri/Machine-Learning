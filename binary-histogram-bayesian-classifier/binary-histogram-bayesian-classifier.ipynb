{
 "cells": [
  {
   "cell_type": "code",
   "execution_count": 399,
   "metadata": {
    "collapsed": true
   },
   "outputs": [],
   "source": [
    "import numpy as np\n",
    "import math\n",
    "import scipy.stats\n",
    "import matplotlib.pyplot as plt"
   ]
  },
  {
   "cell_type": "code",
   "execution_count": 400,
   "metadata": {
    "collapsed": true
   },
   "outputs": [],
   "source": [
    "def readExcelSheet1(excelfile):\n",
    "    from pandas import read_excel\n",
    "    return (read_excel(excelfile)).values"
   ]
  },
  {
   "cell_type": "code",
   "execution_count": 401,
   "metadata": {
    "collapsed": true
   },
   "outputs": [],
   "source": [
    "def readExcelRange(excelfile,sheetname=\"Sheet1\",startrow=1,endrow=1,startcol=1,endcol=1):\n",
    "    from pandas import read_excel\n",
    "    values=(read_excel(excelfile, sheetname,header=None)).values;\n",
    "    return values[startrow-1:endrow,startcol-1:endcol]"
   ]
  },
  {
   "cell_type": "code",
   "execution_count": 402,
   "metadata": {
    "collapsed": true
   },
   "outputs": [],
   "source": [
    "def readExcel(excelfile,**args):\n",
    "    if args:\n",
    "        data=readExcelRange(excelfile,**args)\n",
    "    else:\n",
    "        data=readExcelSheet1(excelfile)\n",
    "    if data.shape==(1,1):\n",
    "        return data[0,0]\n",
    "    elif (data.shape)[0]==1:\n",
    "        return data[0]\n",
    "    else:\n",
    "        return data"
   ]
  },
  {
   "cell_type": "code",
   "execution_count": 403,
   "metadata": {
    "collapsed": true
   },
   "outputs": [],
   "source": [
    "def writeExcelData(x,excelfile,sheetname,startrow,startcol):\n",
    "    from pandas import DataFrame, ExcelWriter\n",
    "    from openpyxl import load_workbook\n",
    "    df=DataFrame(x)\n",
    "    book = load_workbook(excelfile)\n",
    "    writer = ExcelWriter(excelfile, engine='openpyxl') \n",
    "    writer.book = book\n",
    "    writer.sheets = dict((ws.title, ws) for ws in book.worksheets)\n",
    "    df.to_excel(writer, sheet_name=sheetname,startrow=startrow-1, startcol=startcol-1, header=False, index=False)\n",
    "    writer.save()\n",
    "    writer.close()"
   ]
  },
  {
   "cell_type": "code",
   "execution_count": 404,
   "metadata": {
    "collapsed": true
   },
   "outputs": [],
   "source": [
    "def getSheetNames(excelfile):\n",
    "    from pandas import ExcelFile\n",
    "    return (ExcelFile(excelfile)).sheet_names"
   ]
  },
  {
   "cell_type": "code",
   "execution_count": 405,
   "metadata": {
    "collapsed": true
   },
   "outputs": [],
   "source": [
    "excelfile=r\"/Users/gholami/Documents/ucsc machine learning/assignment 2/Assignment_2_Data_and_Template.xlsx\";"
   ]
  },
  {
   "cell_type": "code",
   "execution_count": null,
   "metadata": {
    "collapsed": true
   },
   "outputs": [],
   "source": []
  },
  {
   "cell_type": "code",
   "execution_count": 406,
   "metadata": {
    "collapsed": true
   },
   "outputs": [],
   "source": [
    "def BF(x,B,hmin,hmax,smin,smax):\n",
    "    r = (np.round(((B-1)*(x[0]-hmin)/(hmax-hmin)))).astype('int32');\n",
    "    c = (np.round(((B-1)*(x[1]-smin)/(smax-smin)))).astype('int32');\n",
    "    return[r,c]"
   ]
  },
  {
   "cell_type": "markdown",
   "metadata": {
    "collapsed": true
   },
   "source": [
    "def Build1DHistogramClassifier(X,T,B,xmin,xmax):\n",
    "    HF=np.zeros(B).astype('int32');\n",
    "    HM=np.zeros(B).astype('int32');\n",
    "    for i,x in enumerate(X):\n",
    "        b = BF(x,B,xmin,xmax)\n",
    "        if T[i]=='Female':\n",
    "            HF[b]+=1;\n",
    "        elif T[i]=='Male':\n",
    "            HM[b]+=1;\n",
    "        else:\n",
    "            print i + x + \"error\";\n",
    "            \n",
    "    return [HF,HM]"
   ]
  },
  {
   "cell_type": "code",
   "execution_count": 407,
   "metadata": {
    "collapsed": true
   },
   "outputs": [],
   "source": [
    "def Build2DHistogramClassifier(X,T,B,xmin,xmax):\n",
    "    HF=np.zeros([B,B]).astype('int32');\n",
    "    HM=np.zeros([B,B]).astype('int32');\n",
    "    RC=(np.round(((B-1)*(X-xmin)/(xmax-xmin)))).astype('int32');\n",
    "\n",
    "    for i,rc in enumerate(RC):\n",
    "        if T[i]=='Female':\n",
    "            HF[rc[0],rc[1]]+=1;\n",
    "        else:\n",
    "            HM[rc[0],rc[1]]+=1;\n",
    "            \n",
    "    return [HF,HM]"
   ]
  },
  {
   "cell_type": "code",
   "execution_count": 408,
   "metadata": {
    "collapsed": true
   },
   "outputs": [],
   "source": [
    "def Apply2DHistogramClassifier(queries, HF, HM, xmin, xmax):\n",
    "    B = np.alen(HF);\n",
    "    RC=(np.round(((B-1)*(queries-xmin)/(xmax-xmin)))).astype('int32');\n",
    "    countF = HF[RC[:,0],RC[:,1]];\n",
    "    countM = HM[RC[:,0],RC[:,1]];\n",
    "    \n",
    "    resultlabel = np.full(np.alen(RC),\"Indeterminate\", dtype=object);\n",
    "    indicesF = countF > countM;\n",
    "    indicesM = countM > countF;\n",
    "    resultlabel[indicesF]=\"Female\";\n",
    "    resultlabel[indicesM]=\"Male\";\n",
    "    resultprob = countF*1.0/(countF+countM);\n",
    "    return resultlabel, resultprob\n",
    "\n",
    "    \n",
    "    \n",
    "    "
   ]
  },
  {
   "cell_type": "code",
   "execution_count": 409,
   "metadata": {
    "collapsed": true
   },
   "outputs": [],
   "source": [
    "def Build2DBayesianClassifier(X,T):\n",
    "    muF = np.mean(X[T=='Female'],axis=0);\n",
    "    muM = np.mean(X[T=='Male'],axis=0);\n",
    "    sigmaF=np.cov(X[T=='Female'],rowvar=False);\n",
    "    sigmaM=np.cov(X[T=='Male'],rowvar=False);\n",
    "\n",
    "    NF = len(T[T=='Female']);\n",
    "    NM = len(T[T=='Male']);\n",
    "    return [muF,muM,sigmaF,sigmaM,NF,NM]\n",
    "    "
   ]
  },
  {
   "cell_type": "code",
   "execution_count": 410,
   "metadata": {
    "collapsed": true
   },
   "outputs": [],
   "source": [
    "def pdf(x,mu,sigma):\n",
    "    from numpy.linalg import det\n",
    "    d = np.alen(mu)\n",
    "    dfact1 = (2*np.pi)**d\n",
    "    dfact2 = det(sigma)\n",
    "    fact = 1/np.sqrt(dfact1*dfact2)\n",
    "    xc=x-mu\n",
    "    isigma=np.linalg.inv(sigma)\n",
    "    return fact*np.exp(-0.5*np.einsum('ij,jk,ik->i',xc,isigma,xc));"
   ]
  },
  {
   "cell_type": "code",
   "execution_count": 411,
   "metadata": {
    "collapsed": true
   },
   "outputs": [],
   "source": [
    "def Apply2DBayesianClassifier(queries,muF,muM,sigmaF,sigmaM,NF,NM):\n",
    "\n",
    "    countF=NF*pdf(queries,muF,sigmaF)\n",
    "    countM=NM*pdf(queries,muM,sigmaM)\n",
    "    resultlabel=np.full(np.alen(queries),\"Indeterminate\",dtype=object);\n",
    "    indicesF=countF>countM;\n",
    "    indicesM=countM>countF;\n",
    "    resultlabel[indicesF]=\"Female\";\n",
    "    resultlabel[indicesM]=\"Male\";\n",
    "    resultprob=countF/(countF+countM);\n",
    "    return resultlabel, resultprob\n"
   ]
  },
  {
   "cell_type": "markdown",
   "metadata": {},
   "source": [
    "Prepare Data"
   ]
  },
  {
   "cell_type": "code",
   "execution_count": 412,
   "metadata": {
    "collapsed": true
   },
   "outputs": [],
   "source": [
    "excelfile=r\"/Users/gholami/Documents/ucsc machine learning/assignment 2/Assignment_2_Data_and_Template.xlsx\";"
   ]
  },
  {
   "cell_type": "code",
   "execution_count": 413,
   "metadata": {
    "scrolled": true
   },
   "outputs": [
    {
     "data": {
      "text/plain": [
       "[u'Data',\n",
       " u'Female Histogram',\n",
       " u'Male Histogram',\n",
       " u'Bayesian',\n",
       " u'Queries',\n",
       " u'Reconstructed Female Histogram',\n",
       " u'Reconstructed Male Histogram',\n",
       " u'Observations']"
      ]
     },
     "execution_count": 413,
     "metadata": {},
     "output_type": "execute_result"
    }
   ],
   "source": [
    "sheets=getSheetNames(excelfile);sheets"
   ]
  },
  {
   "cell_type": "code",
   "execution_count": 414,
   "metadata": {},
   "outputs": [
    {
     "data": {
      "text/plain": [
       "array([[ 68.  ,  21.5 ],\n",
       "       [ 71.  ,  23.5 ],\n",
       "       [ 73.  ,  22.5 ],\n",
       "       [ 64.  ,  18.  ],\n",
       "       [ 68.  ,  23.5 ],\n",
       "       [ 59.  ,  20.  ],\n",
       "       [ 73.  ,  23.  ],\n",
       "       [ 75.  ,  24.5 ],\n",
       "       [ 65.  ,  21.  ],\n",
       "       [ 69.  ,  20.5 ],\n",
       "       [ 69.  ,  20.5 ],\n",
       "       [ 64.  ,  18.5 ],\n",
       "       [ 67.  ,  21.  ],\n",
       "       [ 67.  ,  19.5 ],\n",
       "       [ 69.  ,  22.  ],\n",
       "       [ 73.  ,  22.  ],\n",
       "       [ 62.  ,  20.  ],\n",
       "       [ 69.  ,  22.5 ],\n",
       "       [ 64.  ,  18.5 ],\n",
       "       [ 74.  ,  21.5 ],\n",
       "       [ 73.  ,  24.5 ],\n",
       "       [ 66.  ,  20.5 ],\n",
       "       [ 74.  ,  24.5 ],\n",
       "       [ 73.  ,  21.  ],\n",
       "       [ 69.  ,  21.  ],\n",
       "       [ 64.  ,  18.5 ],\n",
       "       [ 67.  ,  18.  ],\n",
       "       [ 60.  ,  19.5 ],\n",
       "       [ 75.  ,  20.5 ],\n",
       "       [ 64.  ,  21.  ],\n",
       "       [ 67.  ,  20.  ],\n",
       "       [ 67.  ,  20.  ],\n",
       "       [ 66.  ,  19.  ],\n",
       "       [ 62.  ,  17.  ],\n",
       "       [ 72.  ,  22.  ],\n",
       "       [ 71.  ,  22.  ],\n",
       "       [ 61.  ,  17.5 ],\n",
       "       [ 63.  ,  19.  ],\n",
       "       [ 66.  ,  19.  ],\n",
       "       [ 71.  ,  22.  ],\n",
       "       [ 71.  ,  22.  ],\n",
       "       [ 66.  ,  18.5 ],\n",
       "       [ 70.  ,  20.  ],\n",
       "       [ 67.  ,  20.5 ],\n",
       "       [ 69.  ,  21.  ],\n",
       "       [ 67.  ,  19.5 ],\n",
       "       [ 68.  ,  20.  ],\n",
       "       [ 67.  ,  21.5 ],\n",
       "       [ 68.  ,  22.5 ],\n",
       "       [ 71.  ,  20.  ],\n",
       "       [ 70.  ,  22.5 ],\n",
       "       [ 74.  ,  24.5 ],\n",
       "       [ 60.  ,  18.5 ],\n",
       "       [ 65.  ,  20.  ],\n",
       "       [ 72.  ,  24.  ],\n",
       "       [ 76.  ,  23.5 ],\n",
       "       [ 66.  ,  21.  ],\n",
       "       [ 64.5 ,  19.5 ],\n",
       "       [ 71.  ,  20.  ],\n",
       "       [ 69.  ,  22.5 ],\n",
       "       [ 64.  ,  20.  ],\n",
       "       [ 65.  ,  20.  ],\n",
       "       [ 74.  ,  24.  ],\n",
       "       [ 68.  ,  21.  ],\n",
       "       [ 68.  ,  21.5 ],\n",
       "       [ 69.  ,  18.5 ],\n",
       "       [ 68.  ,  23.  ],\n",
       "       [ 67.  ,  23.  ],\n",
       "       [ 61.5 ,  20.5 ],\n",
       "       [ 63.  ,  16.5 ],\n",
       "       [ 67.  ,  19.5 ],\n",
       "       [ 71.  ,  23.  ],\n",
       "       [ 73.  ,  22.5 ],\n",
       "       [ 63.  ,  18.5 ],\n",
       "       [ 61.  ,  18.5 ],\n",
       "       [ 67.  ,  21.5 ],\n",
       "       [ 72.  ,  20.5 ],\n",
       "       [ 72.  ,  20.5 ],\n",
       "       [ 68.  ,  20.  ],\n",
       "       [ 66.  ,  21.  ],\n",
       "       [ 67.  ,  21.5 ],\n",
       "       [ 67.  ,  20.5 ],\n",
       "       [ 72.  ,  20.5 ],\n",
       "       [ 67.5 ,  21.  ],\n",
       "       [ 63.75,  21.5 ],\n",
       "       [ 72.  ,  21.5 ],\n",
       "       [ 69.  ,  22.5 ],\n",
       "       [ 68.  ,  21.  ],\n",
       "       [ 71.  ,  21.  ],\n",
       "       [ 71.  ,  22.  ],\n",
       "       [ 63.  ,  19.  ],\n",
       "       [ 70.  ,  23.  ],\n",
       "       [ 68.  ,  20.5 ],\n",
       "       [ 67.5 ,  20.5 ],\n",
       "       [ 75.  ,  21.  ],\n",
       "       [ 74.  ,  24.  ],\n",
       "       [ 71.  ,  22.  ],\n",
       "       [ 71.  ,  21.  ],\n",
       "       [ 64.  ,  19.5 ],\n",
       "       [ 71.  ,  21.  ],\n",
       "       [ 69.  ,  19.5 ],\n",
       "       [ 65.  ,  19.  ],\n",
       "       [ 69.  ,  23.  ],\n",
       "       [ 63.  ,  20.5 ],\n",
       "       [ 70.  ,  24.  ],\n",
       "       [ 71.  ,  22.  ],\n",
       "       [ 64.  ,  20.  ],\n",
       "       [ 63.  ,  21.5 ],\n",
       "       [ 65.  ,  19.  ],\n",
       "       [ 66.  ,  19.  ],\n",
       "       [ 66.  ,  20.  ],\n",
       "       [ 65.  ,  19.5 ],\n",
       "       [ 67.5 ,  20.  ],\n",
       "       [ 57.  ,  16.  ],\n",
       "       [ 72.  ,  22.5 ],\n",
       "       [ 64.  ,  17.5 ],\n",
       "       [ 67.  ,  19.5 ],\n",
       "       [ 68.  ,  22.5 ],\n",
       "       [ 63.  ,  20.  ],\n",
       "       [ 67.  ,  21.5 ],\n",
       "       [ 66.  ,  20.5 ],\n",
       "       [ 72.  ,  23.5 ],\n",
       "       [ 74.  ,  22.  ],\n",
       "       [ 69.  ,  18.  ],\n",
       "       [ 68.  ,  19.  ],\n",
       "       [ 65.  ,  19.5 ],\n",
       "       [ 64.  ,  19.  ],\n",
       "       [ 67.  ,  20.  ],\n",
       "       [ 74.  ,  23.5 ],\n",
       "       [ 73.  ,  24.  ],\n",
       "       [ 64.  ,  18.5 ],\n",
       "       [ 76.  ,  24.5 ],\n",
       "       [ 68.  ,  20.  ],\n",
       "       [ 76.  ,  23.  ],\n",
       "       [ 64.25,  22.  ],\n",
       "       [ 69.  ,  22.5 ],\n",
       "       [ 75.  ,  24.5 ],\n",
       "       [ 61.5 ,  17.  ],\n",
       "       [ 69.  ,  22.  ],\n",
       "       [ 67.  ,  22.  ],\n",
       "       [ 74.  ,  24.5 ],\n",
       "       [ 74.  ,  24.  ],\n",
       "       [ 71.  ,  18.5 ],\n",
       "       [ 71.  ,  21.5 ],\n",
       "       [ 63.  ,  21.  ],\n",
       "       [ 67.  ,  22.  ],\n",
       "       [ 65.  ,  20.5 ],\n",
       "       [ 68.  ,  19.  ],\n",
       "       [ 67.  ,  20.5 ],\n",
       "       [ 73.  ,  23.  ],\n",
       "       [ 78.  ,  25.5 ],\n",
       "       [ 62.  ,  18.5 ],\n",
       "       [ 70.  ,  19.  ],\n",
       "       [ 64.  ,  19.  ],\n",
       "       [ 64.  ,  20.  ],\n",
       "       [ 72.  ,  20.5 ],\n",
       "       [ 74.  ,  24.  ],\n",
       "       [ 70.  ,  22.  ],\n",
       "       [ 70.  ,  23.5 ],\n",
       "       [ 62.  ,  17.  ],\n",
       "       [ 64.  ,  18.5 ],\n",
       "       [ 66.  ,  20.  ],\n",
       "       [ 60.  ,  17.  ],\n",
       "       [ 73.  ,  23.  ],\n",
       "       [ 66.  ,  18.5 ],\n",
       "       [ 68.  ,  21.  ],\n",
       "       [ 73.  ,  21.  ]])"
      ]
     },
     "execution_count": 414,
     "metadata": {},
     "output_type": "execute_result"
    }
   ],
   "source": [
    "data=readExcel(excelfile)\n",
    "X = np.array(data[:,1:],dtype=float);\n",
    "T=data[:,0];\n",
    "X"
   ]
  },
  {
   "cell_type": "code",
   "execution_count": 415,
   "metadata": {},
   "outputs": [
    {
     "data": {
      "text/plain": [
       "array([[ 69. ,  17.5],\n",
       "       [ 66. ,  22. ],\n",
       "       [ 70. ,  21.5],\n",
       "       [ 69. ,  23.5]])"
      ]
     },
     "execution_count": 415,
     "metadata": {},
     "output_type": "execute_result"
    }
   ],
   "source": [
    "queries=(readExcel(excelfile,\n",
    "                  sheetname='Queries',\n",
    "                  startrow=3,\n",
    "                  endrow=6,\n",
    "                  startcol=1,\n",
    "                  endcol=2)).astype(float);queries"
   ]
  },
  {
   "cell_type": "markdown",
   "metadata": {},
   "source": [
    "Histogram Classifier"
   ]
  },
  {
   "cell_type": "code",
   "execution_count": 416,
   "metadata": {
    "collapsed": true
   },
   "outputs": [],
   "source": [
    "num = len(data)/2\n",
    "B = int(round(math.log(num,2))+1); #B=10\n",
    "xmin = np.amin(X,axis=0);\n",
    "xmax = np.amax(X,axis=0);\n",
    "\n",
    "[HF,HM] = Build2DHistogramClassifier(X,T,B,xmin,xmax);\n",
    "#writeExcelData([hmin,hmax,smin,smax],excelfile,'Female Histogram',1,2)\n",
    "#writeExcelData([hmin,hmax,smin,smax],excelfile,'Male Histogram',1,2)\n",
    "#c =\"%dx%d\"%(B,B)\n",
    "#writeExcelData([c],excelfile,'Male Histogram',6,2)\n",
    "#writeExcelData([c],excelfile,'Female Histogram',6,2)\n",
    "#writeExcelData(HF,excelfile,'Female Histogram',7,2)\n",
    "#writeExcelData(HM,excelfile,'Male Histogram',7,2)"
   ]
  },
  {
   "cell_type": "code",
   "execution_count": 417,
   "metadata": {},
   "outputs": [
    {
     "data": {
      "image/png": "[encoded data removed]",
      "text/plain": [
       "<matplotlib.figure.Figure at 0x11e791690>"
      ]
     },
     "metadata": {},
     "output_type": "display_data"
    }
   ],
   "source": [
    "plt.subplot(1,2,1);\n",
    "plt.imshow(HF,interpolation='None',cmap=plt.get_cmap('gray'));\n",
    "plt.subplot(1,2,2);\n",
    "plt.imshow(HM,interpolation='None',cmap=plt.get_cmap('gray'));\n",
    "plt.show()"
   ]
  },
  {
   "cell_type": "code",
   "execution_count": 418,
   "metadata": {},
   "outputs": [
    {
     "data": {
      "text/plain": [
       "[array(['Indeterminate', 'Male', 'Male', 'Male'], dtype=object),\n",
       " array([ 0.5       ,  0.15384615,  0.16666667,  0.        ])]"
      ]
     },
     "execution_count": 418,
     "metadata": {},
     "output_type": "execute_result"
    }
   ],
   "source": [
    "[resultHlabel, resultHprob]=Apply2DHistogramClassifier(queries, HF, HM, xmin, xmax)\n",
    "[resultHlabel, resultHprob]\n",
    "#writeExcelData(resultHprob,excelfile,'Queries',3,3)"
   ]
  },
  {
   "cell_type": "code",
   "execution_count": 419,
   "metadata": {
    "collapsed": true
   },
   "outputs": [],
   "source": [
    "#writeExcelData([hmin,hmax,smin,smax],excelfile,'Reconstructed Female Histogram',1,2)\n",
    "#writeExcelData([hmin,hmax,smin,smax],excelfile,'Reconstructed Male Histogram',1,2)\n",
    "#writeExcelData([c],excelfile,'Reconstructed Female Histogram',6,2)\n",
    "#writeExcelData([c],excelfile,'Reconstructed Male Histogram',6,2)"
   ]
  },
  {
   "cell_type": "markdown",
   "metadata": {},
   "source": [
    "With just 50 samples"
   ]
  },
  {
   "cell_type": "markdown",
   "metadata": {},
   "source": [
    "Bayesian Classifier"
   ]
  },
  {
   "cell_type": "code",
   "execution_count": 420,
   "metadata": {},
   "outputs": [
    {
     "name": "stdout",
     "output_type": "stream",
     "text": [
      "((167, 2), (167,), (2,))\n",
      "(array([[ 68.  ,  21.5 ],\n",
      "       [ 71.  ,  23.5 ],\n",
      "       [ 73.  ,  22.5 ],\n",
      "       [ 64.  ,  18.  ],\n",
      "       [ 68.  ,  23.5 ],\n",
      "       [ 59.  ,  20.  ],\n",
      "       [ 73.  ,  23.  ],\n",
      "       [ 75.  ,  24.5 ],\n",
      "       [ 65.  ,  21.  ],\n",
      "       [ 69.  ,  20.5 ],\n",
      "       [ 69.  ,  20.5 ],\n",
      "       [ 64.  ,  18.5 ],\n",
      "       [ 67.  ,  21.  ],\n",
      "       [ 67.  ,  19.5 ],\n",
      "       [ 69.  ,  22.  ],\n",
      "       [ 73.  ,  22.  ],\n",
      "       [ 62.  ,  20.  ],\n",
      "       [ 69.  ,  22.5 ],\n",
      "       [ 64.  ,  18.5 ],\n",
      "       [ 74.  ,  21.5 ],\n",
      "       [ 73.  ,  24.5 ],\n",
      "       [ 66.  ,  20.5 ],\n",
      "       [ 74.  ,  24.5 ],\n",
      "       [ 73.  ,  21.  ],\n",
      "       [ 69.  ,  21.  ],\n",
      "       [ 64.  ,  18.5 ],\n",
      "       [ 67.  ,  18.  ],\n",
      "       [ 60.  ,  19.5 ],\n",
      "       [ 75.  ,  20.5 ],\n",
      "       [ 64.  ,  21.  ],\n",
      "       [ 67.  ,  20.  ],\n",
      "       [ 67.  ,  20.  ],\n",
      "       [ 66.  ,  19.  ],\n",
      "       [ 62.  ,  17.  ],\n",
      "       [ 72.  ,  22.  ],\n",
      "       [ 71.  ,  22.  ],\n",
      "       [ 61.  ,  17.5 ],\n",
      "       [ 63.  ,  19.  ],\n",
      "       [ 66.  ,  19.  ],\n",
      "       [ 71.  ,  22.  ],\n",
      "       [ 71.  ,  22.  ],\n",
      "       [ 66.  ,  18.5 ],\n",
      "       [ 70.  ,  20.  ],\n",
      "       [ 67.  ,  20.5 ],\n",
      "       [ 69.  ,  21.  ],\n",
      "       [ 67.  ,  19.5 ],\n",
      "       [ 68.  ,  20.  ],\n",
      "       [ 67.  ,  21.5 ],\n",
      "       [ 68.  ,  22.5 ],\n",
      "       [ 71.  ,  20.  ],\n",
      "       [ 70.  ,  22.5 ],\n",
      "       [ 74.  ,  24.5 ],\n",
      "       [ 60.  ,  18.5 ],\n",
      "       [ 65.  ,  20.  ],\n",
      "       [ 72.  ,  24.  ],\n",
      "       [ 76.  ,  23.5 ],\n",
      "       [ 66.  ,  21.  ],\n",
      "       [ 64.5 ,  19.5 ],\n",
      "       [ 71.  ,  20.  ],\n",
      "       [ 69.  ,  22.5 ],\n",
      "       [ 64.  ,  20.  ],\n",
      "       [ 65.  ,  20.  ],\n",
      "       [ 74.  ,  24.  ],\n",
      "       [ 68.  ,  21.  ],\n",
      "       [ 68.  ,  21.5 ],\n",
      "       [ 69.  ,  18.5 ],\n",
      "       [ 68.  ,  23.  ],\n",
      "       [ 67.  ,  23.  ],\n",
      "       [ 61.5 ,  20.5 ],\n",
      "       [ 63.  ,  16.5 ],\n",
      "       [ 67.  ,  19.5 ],\n",
      "       [ 71.  ,  23.  ],\n",
      "       [ 73.  ,  22.5 ],\n",
      "       [ 63.  ,  18.5 ],\n",
      "       [ 61.  ,  18.5 ],\n",
      "       [ 67.  ,  21.5 ],\n",
      "       [ 72.  ,  20.5 ],\n",
      "       [ 72.  ,  20.5 ],\n",
      "       [ 68.  ,  20.  ],\n",
      "       [ 66.  ,  21.  ],\n",
      "       [ 67.  ,  21.5 ],\n",
      "       [ 67.  ,  20.5 ],\n",
      "       [ 72.  ,  20.5 ],\n",
      "       [ 67.5 ,  21.  ],\n",
      "       [ 63.75,  21.5 ],\n",
      "       [ 72.  ,  21.5 ],\n",
      "       [ 69.  ,  22.5 ],\n",
      "       [ 68.  ,  21.  ],\n",
      "       [ 71.  ,  21.  ],\n",
      "       [ 71.  ,  22.  ],\n",
      "       [ 63.  ,  19.  ],\n",
      "       [ 70.  ,  23.  ],\n",
      "       [ 68.  ,  20.5 ],\n",
      "       [ 67.5 ,  20.5 ],\n",
      "       [ 75.  ,  21.  ],\n",
      "       [ 74.  ,  24.  ],\n",
      "       [ 71.  ,  22.  ],\n",
      "       [ 71.  ,  21.  ],\n",
      "       [ 64.  ,  19.5 ],\n",
      "       [ 71.  ,  21.  ],\n",
      "       [ 69.  ,  19.5 ],\n",
      "       [ 65.  ,  19.  ],\n",
      "       [ 69.  ,  23.  ],\n",
      "       [ 63.  ,  20.5 ],\n",
      "       [ 70.  ,  24.  ],\n",
      "       [ 71.  ,  22.  ],\n",
      "       [ 64.  ,  20.  ],\n",
      "       [ 63.  ,  21.5 ],\n",
      "       [ 65.  ,  19.  ],\n",
      "       [ 66.  ,  19.  ],\n",
      "       [ 66.  ,  20.  ],\n",
      "       [ 65.  ,  19.5 ],\n",
      "       [ 67.5 ,  20.  ],\n",
      "       [ 57.  ,  16.  ],\n",
      "       [ 72.  ,  22.5 ],\n",
      "       [ 64.  ,  17.5 ],\n",
      "       [ 67.  ,  19.5 ],\n",
      "       [ 68.  ,  22.5 ],\n",
      "       [ 63.  ,  20.  ],\n",
      "       [ 67.  ,  21.5 ],\n",
      "       [ 66.  ,  20.5 ],\n",
      "       [ 72.  ,  23.5 ],\n",
      "       [ 74.  ,  22.  ],\n",
      "       [ 69.  ,  18.  ],\n",
      "       [ 68.  ,  19.  ],\n",
      "       [ 65.  ,  19.5 ],\n",
      "       [ 64.  ,  19.  ],\n",
      "       [ 67.  ,  20.  ],\n",
      "       [ 74.  ,  23.5 ],\n",
      "       [ 73.  ,  24.  ],\n",
      "       [ 64.  ,  18.5 ],\n",
      "       [ 76.  ,  24.5 ],\n",
      "       [ 68.  ,  20.  ],\n",
      "       [ 76.  ,  23.  ],\n",
      "       [ 64.25,  22.  ],\n",
      "       [ 69.  ,  22.5 ],\n",
      "       [ 75.  ,  24.5 ],\n",
      "       [ 61.5 ,  17.  ],\n",
      "       [ 69.  ,  22.  ],\n",
      "       [ 67.  ,  22.  ],\n",
      "       [ 74.  ,  24.5 ],\n",
      "       [ 74.  ,  24.  ],\n",
      "       [ 71.  ,  18.5 ],\n",
      "       [ 71.  ,  21.5 ],\n",
      "       [ 63.  ,  21.  ],\n",
      "       [ 67.  ,  22.  ],\n",
      "       [ 65.  ,  20.5 ],\n",
      "       [ 68.  ,  19.  ],\n",
      "       [ 67.  ,  20.5 ],\n",
      "       [ 73.  ,  23.  ],\n",
      "       [ 78.  ,  25.5 ],\n",
      "       [ 62.  ,  18.5 ],\n",
      "       [ 70.  ,  19.  ],\n",
      "       [ 64.  ,  19.  ],\n",
      "       [ 64.  ,  20.  ],\n",
      "       [ 72.  ,  20.5 ],\n",
      "       [ 74.  ,  24.  ],\n",
      "       [ 70.  ,  22.  ],\n",
      "       [ 70.  ,  23.5 ],\n",
      "       [ 62.  ,  17.  ],\n",
      "       [ 64.  ,  18.5 ],\n",
      "       [ 66.  ,  20.  ],\n",
      "       [ 60.  ,  17.  ],\n",
      "       [ 73.  ,  23.  ],\n",
      "       [ 66.  ,  18.5 ],\n",
      "       [ 68.  ,  21.  ],\n",
      "       [ 73.  ,  21.  ]]), array([u'Female', u'Male', u'Male', u'Female', u'Male', u'Female', u'Male',\n",
      "       u'Male', u'Female', u'Female', u'Male', u'Female', u'Female',\n",
      "       u'Female', u'Male', u'Male', u'Female', u'Male', u'Female', u'Male',\n",
      "       u'Male', u'Female', u'Male', u'Male', u'Male', u'Female', u'Female',\n",
      "       u'Female', u'Male', u'Female', u'Female', u'Female', u'Female',\n",
      "       u'Female', u'Male', u'Male', u'Female', u'Female', u'Male', u'Male',\n",
      "       u'Male', u'Female', u'Male', u'Female', u'Male', u'Female',\n",
      "       u'Female', u'Male', u'Male', u'Female', u'Male', u'Male', u'Female',\n",
      "       u'Female', u'Male', u'Male', u'Female', u'Female', u'Male', u'Male',\n",
      "       u'Female', u'Female', u'Male', u'Male', u'Female', u'Female',\n",
      "       u'Female', u'Male', u'Female', u'Female', u'Female', u'Male',\n",
      "       u'Male', u'Female', u'Female', u'Male', u'Male', u'Male', u'Female',\n",
      "       u'Female', u'Male', u'Female', u'Male', u'Male', u'Female',\n",
      "       u'Female', u'Male', u'Female', u'Male', u'Male', u'Female', u'Male',\n",
      "       u'Female', u'Female', u'Male', u'Male', u'Male', u'Male', u'Female',\n",
      "       u'Male', u'Female', u'Female', u'Male', u'Female', u'Male', u'Male',\n",
      "       u'Female', u'Female', u'Female', u'Female', u'Female', u'Female',\n",
      "       u'Female', u'Female', u'Male', u'Female', u'Female', u'Female',\n",
      "       u'Female', u'Male', u'Female', u'Male', u'Male', u'Male', u'Female',\n",
      "       u'Female', u'Female', u'Female', u'Male', u'Male', u'Female',\n",
      "       u'Male', u'Female', u'Male', u'Female', u'Male', u'Male', u'Female',\n",
      "       u'Male', u'Male', u'Male', u'Male', u'Female', u'Male', u'Female',\n",
      "       u'Male', u'Female', u'Female', u'Female', u'Male', u'Male',\n",
      "       u'Female', u'Female', u'Female', u'Female', u'Male', u'Male',\n",
      "       u'Male', u'Male', u'Female', u'Female', u'Female', u'Female',\n",
      "       u'Male', u'Female', u'Female', u'Male'], dtype=object), array([ 65.25280899,  19.6011236 ]))\n"
     ]
    }
   ],
   "source": [
    "[muF,muM,sigmaF,sigmaM,NF,NM]=Build2DBayesianClassifier(X,T)\n",
    "print(X.shape,T.shape,muF.shape);\n",
    "print(X,T,muF);\n",
    "#writeExcelData(np.vstack((muF,muM)),excelfile,'Bayesian',1,3)\n",
    "#writeExcelData(sigmaF,excelfile,'Bayesian',4,3)\n",
    "#writeExcelData(sigmaM,excelfile,'Bayesian',6,3)\n",
    "#writeExcelData([NF],excelfile,'Bayesian',9,3)\n",
    "#writeExcelData([NM],excelfile,'Bayesian',10,3)"
   ]
  },
  {
   "cell_type": "code",
   "execution_count": 350,
   "metadata": {
    "collapsed": true
   },
   "outputs": [],
   "source": [
    "[resultBlabel, resultBprob]=Apply2DBayesianClassifier(queries,muF,muM,sigmaF,sigmaM,NF,NM)"
   ]
  },
  {
   "cell_type": "code",
   "execution_count": 351,
   "metadata": {},
   "outputs": [
    {
     "data": {
      "text/plain": [
       "[array(['Female', 'Female', 'Male', 'Male'], dtype=object),\n",
       " array([ 0.89853626,  0.65557922,  0.19885722,  0.0564518 ])]"
      ]
     },
     "execution_count": 351,
     "metadata": {},
     "output_type": "execute_result"
    }
   ],
   "source": [
    "[resultBlabel, resultBprob]\n",
    "#writeExcelData(resultBprob,excelfile,'Queries',3,4)\n"
   ]
  },
  {
   "cell_type": "markdown",
   "metadata": {},
   "source": [
    "Reconstructed Histograms"
   ]
  },
  {
   "cell_type": "code",
   "execution_count": 352,
   "metadata": {
    "collapsed": true
   },
   "outputs": [],
   "source": [
    "[htmin, hsmin]=xmin;\n",
    "[htmax,hsmax]=xmax;\n",
    "HFrec=np.zeros_like(HF);\n",
    "HMrec=np.zeros_like(HM);\n",
    "bA=(htmax-htmin)*(hsmax-hsmin)/((B-1)**2) #each bin area\n",
    "for r,ht in enumerate(np.linspace(htmin,htmax,B)):   #center of the bin\n",
    "    for c,hs in enumerate(np.linspace(hsmin,hsmax,B)):\n",
    "        HFrec[r,c]=(np.round(NF*bA*pdf([[ht,hs]],muF,sigmaF)[0])).astype('int32')\n",
    "        HMrec[r,c]=(np.round(NM*bA*pdf([[ht,hs]],muM,sigmaM)[0])).astype('int32')\n"
   ]
  },
  {
   "cell_type": "code",
   "execution_count": 353,
   "metadata": {},
   "outputs": [
    {
     "data": {
      "image/png": "[encoded data removed]",
      "text/plain": [
       "<matplotlib.figure.Figure at 0x11e82f7d0>"
      ]
     },
     "metadata": {},
     "output_type": "display_data"
    }
   ],
   "source": [
    "plt.subplot(2,2,1);\n",
    "plt.imshow(HF,interpolation='None',cmap=plt.get_cmap('gray'));\n",
    "plt.subplot(2,2,2);\n",
    "plt.imshow(HFrec,interpolation='None',cmap=plt.get_cmap('gray'));\n",
    "plt.subplot(2,2,3);\n",
    "plt.imshow(HM,interpolation='None',cmap=plt.get_cmap('gray'));\n",
    "plt.subplot(2,2,4);\n",
    "plt.imshow(HMrec,interpolation='None',cmap=plt.get_cmap('gray'));\n",
    "plt.show()"
   ]
  },
  {
   "cell_type": "code",
   "execution_count": 354,
   "metadata": {},
   "outputs": [
    {
     "data": {
      "text/plain": [
       "[89, 89, 78, 76]"
      ]
     },
     "execution_count": 354,
     "metadata": {},
     "output_type": "execute_result"
    }
   ],
   "source": [
    "[np.sum(H) for H in [HF, HFrec, HM, HMrec]]"
   ]
  },
  {
   "cell_type": "code",
   "execution_count": null,
   "metadata": {
    "collapsed": true
   },
   "outputs": [],
   "source": []
  },
  {
   "cell_type": "markdown",
   "metadata": {
    "collapsed": true
   },
   "source": [
    "def Cunstruct1DBayesianHistogram(queries,muF,muM,zF,zM,NF,NM):\n",
    "    w=1;\n",
    "    countF=np.array([NF*w*pdf(q,muF,zF)for q in queries])\n",
    "    countM=np.array([NM*w*pdf(q,muM,zM) for q in queries])\n",
    "    resultlabel=np.full(np.alen(queries),\"Indeterminate\",dtype=object);\n",
    "    indicesF=countF>countM;\n",
    "    indicesM=countM>countF;\n",
    "    resultlabel[indicesF]=\"Female\";\n",
    "    resultlabel[indicesM]=\"Male\";\n",
    "    resultprob=countF/(countF+countM);\n",
    "    return resultlabel, resultprob\n",
    "    #return [countF,countM]"
   ]
  },
  {
   "cell_type": "code",
   "execution_count": null,
   "metadata": {
    "collapsed": true
   },
   "outputs": [],
   "source": []
  }
 ],
 "metadata": {
  "kernelspec": {
   "display_name": "Python 2",
   "language": "python",
   "name": "python2"
  },
  "language_info": {
   "codemirror_mode": {
    "name": "ipython",
    "version": 2
   },
   "file_extension": ".py",
   "mimetype": "text/x-python",
   "name": "python",
   "nbconvert_exporter": "python",
   "pygments_lexer": "ipython2",
   "version": "2.7.13"
  }
 },
 "nbformat": 4,
 "nbformat_minor": 2
}
