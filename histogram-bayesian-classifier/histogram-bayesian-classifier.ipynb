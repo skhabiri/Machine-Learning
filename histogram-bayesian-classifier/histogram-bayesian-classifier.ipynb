{
 "cells": [
  {
   "cell_type": "code",
   "execution_count": 83,
   "metadata": {},
   "outputs": [],
   "source": [
    "import numpy as np\n",
    "import math\n",
    "import scipy.stats\n",
    "import matplotlib.pyplot as plt"
   ]
  },
  {
   "cell_type": "code",
   "execution_count": 84,
   "metadata": {
    "collapsed": true
   },
   "outputs": [],
   "source": [
    "def readExcelSheet1(excelfile):\n",
    "    from pandas import read_excel\n",
    "    return (read_excel(excelfile)).values"
   ]
  },
  {
   "cell_type": "code",
   "execution_count": 85,
   "metadata": {
    "collapsed": true
   },
   "outputs": [],
   "source": [
    "def readExcelRange(excelfile,sheetname=\"Sheet1\",startrow=1,endrow=1,startcol=1,endcol=1):\n",
    "    from pandas import read_excel\n",
    "    values=(read_excel(excelfile, sheetname,header=None)).values;\n",
    "    return values[startrow-1:endrow,startcol-1:endcol]"
   ]
  },
  {
   "cell_type": "code",
   "execution_count": 86,
   "metadata": {
    "collapsed": true
   },
   "outputs": [],
   "source": [
    "def readExcel(excelfile,**args):\n",
    "    if args:\n",
    "        data=readExcelRange(excelfile,**args)\n",
    "    else:\n",
    "        data=readExcelSheet1(excelfile)\n",
    "    if data.shape==(1,1):\n",
    "        return data[0,0]\n",
    "    elif (data.shape)[0]==1:\n",
    "        return data[0]\n",
    "    else:\n",
    "        return data"
   ]
  },
  {
   "cell_type": "code",
   "execution_count": 87,
   "metadata": {
    "collapsed": true
   },
   "outputs": [],
   "source": [
    "def writeExcelData(x,excelfile,sheetname,startrow,startcol):\n",
    "    from pandas import DataFrame, ExcelWriter\n",
    "    from openpyxl import load_workbook\n",
    "    df=DataFrame(x)\n",
    "    book = load_workbook(excelfile)\n",
    "    writer = ExcelWriter(excelfile, engine='openpyxl') \n",
    "    writer.book = book\n",
    "    writer.sheets = dict((ws.title, ws) for ws in book.worksheets)\n",
    "    df.to_excel(writer, sheet_name=sheetname,startrow=startrow-1, startcol=startcol-1, header=False, index=False)\n",
    "    writer.save()\n",
    "    writer.close()"
   ]
  },
  {
   "cell_type": "code",
   "execution_count": 88,
   "metadata": {
    "collapsed": true
   },
   "outputs": [],
   "source": [
    "def getSheetNames(excelfile):\n",
    "    from pandas import ExcelFile\n",
    "    return (ExcelFile(excelfile)).sheet_names"
   ]
  },
  {
   "cell_type": "code",
   "execution_count": 89,
   "metadata": {
    "collapsed": true
   },
   "outputs": [],
   "source": [
    "excelfile=r\"/Users/gholami/Documents/ucsc machine learning/assignment/Assignment_1_Data_and_Template.xlsx\";"
   ]
  },
  {
   "cell_type": "code",
   "execution_count": null,
   "metadata": {},
   "outputs": [],
   "source": []
  },
  {
   "cell_type": "code",
   "execution_count": 90,
   "metadata": {
    "collapsed": true
   },
   "outputs": [],
   "source": [
    "def BF(x,B,xmin,xmax):\n",
    "    return (np.round(((B-1)*(x-xmin)/(xmax-xmin)))).astype('int32');\n",
    "    "
   ]
  },
  {
   "cell_type": "markdown",
   "metadata": {
    "collapsed": true
   },
   "source": [
    "def Build1DHistogramClassifier(X,T,B,xmin,xmax):\n",
    "    HF=np.zeros(B).astype('int32');\n",
    "    HM=np.zeros(B).astype('int32');\n",
    "    for i,x in enumerate(X):\n",
    "        b = BF(x,B,xmin,xmax)\n",
    "        if T[i]=='Female':\n",
    "            HF[b]+=1;\n",
    "        elif T[i]=='Male':\n",
    "            HM[b]+=1;\n",
    "        else:\n",
    "            print i + x + \"error\";\n",
    "            \n",
    "    return [HF,HM]"
   ]
  },
  {
   "cell_type": "code",
   "execution_count": 91,
   "metadata": {
    "collapsed": true
   },
   "outputs": [],
   "source": [
    "def Build1DHistogramClassifier(X,T,B,xmin,xmax):\n",
    "    HF=np.zeros(B).astype('int32');\n",
    "    HM=np.zeros(B).astype('int32');\n",
    "    for i,x in enumerate(X):\n",
    "        b = BF(x,B,xmin,xmax)\n",
    "        if T[i]=='Female':\n",
    "            HF[b]+=1;\n",
    "        elif T[i]=='Male':\n",
    "            HM[b]+=1;\n",
    "        else:\n",
    "            print i + x + \"error\";\n",
    "            \n",
    "    return [HF,HM]"
   ]
  },
  {
   "cell_type": "code",
   "execution_count": 92,
   "metadata": {
    "collapsed": true
   },
   "outputs": [],
   "source": [
    "def Apply1DHistogramClassifier(queries, HF, HM, xmin, xmax):\n",
    "    B = np.alen(HF);\n",
    "    binindices = np.clip(((np.round(((B-1)*(queries-xmin)/(xmax-xmin)))).astype('int32')),0,B-1)\n",
    "    countF = HF[binindices];\n",
    "    countM = HM[binindices];\n",
    "    resultlabel = np.full(np.alen(binindices),\"Indeterminate\", dtype=object);\n",
    "    indicesF = countF > countM;\n",
    "    indicesM = countM > countF;\n",
    "    resultlabel[indicesF]=\"Female\";\n",
    "    resultlabel[indicesM]=\"Male\";\n",
    "    resultprob = countF/(countF+countM);\n",
    "    return resultlabel, resultprob\n",
    "    \n",
    "    \n",
    "    "
   ]
  },
  {
   "cell_type": "code",
   "execution_count": 93,
   "metadata": {
    "collapsed": true
   },
   "outputs": [],
   "source": [
    "def Build1DBayesianClassifier(X,T):\n",
    "    muF = np.mean(X[T=='Female'])\n",
    "    muM = np.mean(X[T=='Male'])\n",
    "    sigmaF = np.std(X[T=='Female'],ddof=1)\n",
    "    sigmaM = np.std(X[T=='Male'],ddof=1)\n",
    "    NF = len(T[T=='Female']);\n",
    "    NM = len(T[T=='Male']);\n",
    "    return [muF,muM,sigmaF,sigmaM,NF,NM]\n",
    "    "
   ]
  },
  {
   "cell_type": "code",
   "execution_count": 94,
   "metadata": {
    "collapsed": true
   },
   "outputs": [],
   "source": [
    "def pdf(x,mu,sigma):\n",
    "    return (1.0/(np.sqrt(2*np.pi)*sigma))*np.exp(-0.5*((x-mu)/sigma)**2)"
   ]
  },
  {
   "cell_type": "code",
   "execution_count": 95,
   "metadata": {
    "collapsed": true
   },
   "outputs": [],
   "source": [
    "def Apply1DBayesianClassifier(queries,muF,muM,sigmaF,sigmaM,NF,NM):\n",
    "    w=1;\n",
    "    countF=NF*w*pdf(queries,muF,sigmaF)\n",
    "    countM=NM*w*pdf(queries,muM,sigmaM)\n",
    "    resultlabel=np.full(np.alen(queries),\"Indeterminate\",dtype=object);\n",
    "    indicesF=countF>countM;\n",
    "    indicesM=countM>countF;\n",
    "    resultlabel[indicesF]=\"Female\";\n",
    "    resultlabel[indicesM]=\"Male\";\n",
    "    resultprob=countF/(countF+countM);\n",
    "    return resultlabel, resultprob"
   ]
  },
  {
   "cell_type": "markdown",
   "metadata": {},
   "source": [
    "Prepare Data"
   ]
  },
  {
   "cell_type": "code",
   "execution_count": 96,
   "metadata": {
    "collapsed": true
   },
   "outputs": [],
   "source": [
    "excelfile=r\"/Users/gholami/Documents/ucsc machine learning/assignment/Assignment_1_Data_and_Template.xlsx\";"
   ]
  },
  {
   "cell_type": "code",
   "execution_count": 97,
   "metadata": {
    "scrolled": true
   },
   "outputs": [
    {
     "data": {
      "text/plain": [
       "[u'Data',\n",
       " u'Classifiers - Full Data',\n",
       " u'Classifiers - Partial Data',\n",
       " u'Observations']"
      ]
     },
     "execution_count": 97,
     "metadata": {},
     "output_type": "execute_result"
    }
   ],
   "source": [
    "sheets=getSheetNames(excelfile);sheets"
   ]
  },
  {
   "cell_type": "code",
   "execution_count": 98,
   "metadata": {
    "collapsed": true
   },
   "outputs": [],
   "source": [
    "data=readExcel(excelfile)\n",
    "X=np.array(data[:,0]*12+data[:,1],dtype=float)\n",
    "T=np.array([str(g) for g in data[:,2]])\n",
    "X50=X[:50]\n",
    "T50=T[:50]"
   ]
  },
  {
   "cell_type": "code",
   "execution_count": 99,
   "metadata": {},
   "outputs": [
    {
     "data": {
      "text/plain": [
       "array([ 55.,  60.,  65.,  70.,  75.,  80.])"
      ]
     },
     "execution_count": 99,
     "metadata": {},
     "output_type": "execute_result"
    }
   ],
   "source": [
    "queries=(readExcel(excelfile,\n",
    "                  sheetname='Classifiers - Full Data',\n",
    "                  startrow=17,\n",
    "                  endrow=17,\n",
    "                  startcol=2,\n",
    "                  endcol=7)).astype(float);queries"
   ]
  },
  {
   "cell_type": "markdown",
   "metadata": {},
   "source": [
    "Histogram Classifier"
   ]
  },
  {
   "cell_type": "code",
   "execution_count": 100,
   "metadata": {
    "collapsed": true
   },
   "outputs": [],
   "source": [
    "B = 32;\n",
    "xmin = np.amin(X);\n",
    "xmax = np.amax(X);\n",
    "[HF,HM] = Build1DHistogramClassifier(X,T,B,xmin,xmax);"
   ]
  },
  {
   "cell_type": "code",
   "execution_count": 101,
   "metadata": {},
   "outputs": [
    {
     "data": {
      "image/png": "[encoded data removed]",
      "text/plain": [
       "<matplotlib.figure.Figure at 0x119f9c5d0>"
      ]
     },
     "metadata": {},
     "output_type": "display_data"
    }
   ],
   "source": [
    "plt.figure(figsize=(10,5));\n",
    "opacity=0.5\n",
    "[bincenters,binwidth]=np.linspace(xmin, xmax, num=B, retstep=True);\n",
    "rects1=plt.bar(bincenters-(binwidth/2), HF, binwidth,\n",
    "              alpha=opacity,\n",
    "              color='pink',\n",
    "              label='Female')\n",
    "rects2=plt.bar(bincenters+(binwidth/2), HM, binwidth,\n",
    "              alpha=opacity,\n",
    "              color='b',\n",
    "              label='Male')\n",
    "plt.xlabel('Height')\n",
    "plt.ylabel('Count')\n",
    "plt.xticks(bincenters,bincenters.astype('int32'), fontsize=10)\n",
    "plt.legend()\n",
    "plt.show()"
   ]
  },
  {
   "cell_type": "code",
   "execution_count": 102,
   "metadata": {},
   "outputs": [],
   "source": [
    "[resultHlabel, resultHprob]=Apply1DHistogramClassifier(queries, HF, HM, xmin, xmax)"
   ]
  },
  {
   "cell_type": "code",
   "execution_count": 103,
   "metadata": {},
   "outputs": [
    {
     "data": {
      "text/plain": [
       "[array(['Female', 'Female', 'Female', 'Male', 'Male', 'Male'], dtype=object),\n",
       " array([1, 0, 0, 0, 0, 0], dtype=int32)]"
      ]
     },
     "execution_count": 103,
     "metadata": {},
     "output_type": "execute_result"
    }
   ],
   "source": [
    "[resultHlabel, resultHprob]"
   ]
  },
  {
   "cell_type": "markdown",
   "metadata": {},
   "source": [
    "resultHprob = []\n",
    "for q in queries:\n",
    "    b = BF(q,B,xmin,xmax);\n",
    "    resultHprob.append(HF[b]*1.0/(HF[b]+HM[b]));\n",
    "\n",
    "M = []\n",
    "F = []\n",
    "for i,x in enumerate(X):\n",
    "    if T[i]=='Female':\n",
    "        F.append(X[i])\n",
    "    elif T[i]=='Male':\n",
    "        M.append(X[i])\n",
    "    else:\n",
    "        print 'error'\n",
    "    \n",
    "muF = np.mean(F)\n",
    "sigmaF = np.std(F,ddof=1)\n",
    "NF = len(F)\n",
    "print muF,sigmaF,NF\n",
    "\n",
    "muM = np.mean(M)\n",
    "sigmaM = np.std(M,ddof=1)\n",
    "NM = len(M)\n",
    "print muM,sigmaM,NM\n",
    "\n",
    "resultBprob = []\n",
    "for q in queries:\n",
    "    bpF = bprob(q,muF,sigmaF);\n",
    "    bpM = bprob(q,muM,sigmaM);\n",
    "    resultBprob.append((NF*1.0*bpF)/(NF*bpF+NM*bpM));\n",
    "    \n",
    "resultBprob \n",
    "#writeExcelData([resultBprob],excelfile,'Classifiers - Full Data',19,2)\n",
    "\n",
    "#bf = bprob(98,100,3)\n",
    "#print \"bf is\", bf\n",
    "\n",
    "#sbf=scipy.stats.norm(100,3).pdf(98);\n",
    "#print \"sbf is\", bf"
   ]
  },
  {
   "cell_type": "markdown",
   "metadata": {},
   "source": [
    "With just 50 samples"
   ]
  },
  {
   "cell_type": "code",
   "execution_count": 104,
   "metadata": {
    "collapsed": true
   },
   "outputs": [],
   "source": [
    "[HF50,HM50] = Build1DHistogramClassifier(X50,T50,B,xmin,xmax)"
   ]
  },
  {
   "cell_type": "code",
   "execution_count": 105,
   "metadata": {},
   "outputs": [
    {
     "data": {
      "image/png": "[encoded data removed]",
      "text/plain": [
       "<matplotlib.figure.Figure at 0x119f81350>"
      ]
     },
     "metadata": {},
     "output_type": "display_data"
    }
   ],
   "source": [
    "plt.figure(figsize=(10,5));\n",
    "opacity=0.5\n",
    "rects1=plt.bar(bincenters-(binwidth/2), HF50, binwidth,\n",
    "              alpha=opacity,\n",
    "              color='pink',\n",
    "              label='Female')\n",
    "rects2=plt.bar(bincenters+(binwidth/2), HM50, binwidth,\n",
    "              alpha=opacity,\n",
    "              color='b',\n",
    "              label='Male')\n",
    "plt.xlabel('Height')\n",
    "plt.ylabel('Count')\n",
    "plt.xticks(bincenters,bincenters.astype('int32'), fontsize=10)\n",
    "plt.legend()\n",
    "plt.show()"
   ]
  },
  {
   "cell_type": "code",
   "execution_count": 106,
   "metadata": {},
   "outputs": [
    {
     "name": "stderr",
     "output_type": "stream",
     "text": [
      "/Users/gholami/anaconda/lib/python2.7/site-packages/ipykernel_launcher.py:11: RuntimeWarning: divide by zero encountered in divide\n",
      "  # This is added back by InteractiveShellApp.init_path()\n"
     ]
    }
   ],
   "source": [
    "[resultHlabel50, resultHprob50]=Apply1DHistogramClassifier(queries, HF50, HM50, xmin, xmax)"
   ]
  },
  {
   "cell_type": "code",
   "execution_count": 107,
   "metadata": {},
   "outputs": [
    {
     "data": {
      "text/plain": [
       "[array(['Female', 'Indeterminate', 'Female', 'Male', 'Male', 'Male'], dtype=object),\n",
       " array([1, 0, 1, 0, 0, 0], dtype=int32)]"
      ]
     },
     "execution_count": 107,
     "metadata": {},
     "output_type": "execute_result"
    }
   ],
   "source": [
    "[resultHlabel50, resultHprob50]"
   ]
  },
  {
   "cell_type": "markdown",
   "metadata": {},
   "source": [
    "Bayesian Classifier"
   ]
  },
  {
   "cell_type": "code",
   "execution_count": 108,
   "metadata": {
    "collapsed": true
   },
   "outputs": [],
   "source": [
    "[muF,muM,sigmaF,sigmaM,NF,NM]=Build1DBayesianClassifier(X,T)"
   ]
  },
  {
   "cell_type": "code",
   "execution_count": 109,
   "metadata": {
    "collapsed": true
   },
   "outputs": [],
   "source": [
    "[resultBlabel, resultBprob]=Apply1DBayesianClassifier(queries,muF,muM,sigmaF,sigmaM,NF,NM)"
   ]
  },
  {
   "cell_type": "code",
   "execution_count": 110,
   "metadata": {},
   "outputs": [
    {
     "data": {
      "text/plain": [
       "[array(['Female', 'Female', 'Female', 'Male', 'Male', 'Male'], dtype=object),\n",
       " array([ 0.99945946,  0.98847936,  0.83170428,  0.26106772,  0.03039783,\n",
       "         0.00344112])]"
      ]
     },
     "execution_count": 110,
     "metadata": {},
     "output_type": "execute_result"
    }
   ],
   "source": [
    "[resultBlabel, resultBprob]"
   ]
  },
  {
   "cell_type": "markdown",
   "metadata": {},
   "source": [
    "With just 50 samples"
   ]
  },
  {
   "cell_type": "code",
   "execution_count": 111,
   "metadata": {
    "collapsed": true
   },
   "outputs": [],
   "source": [
    "[muF50,muM50,sigmaF50,sigmaM50,NF50,NM50]=Build1DBayesianClassifier(X50,T50)"
   ]
  },
  {
   "cell_type": "code",
   "execution_count": 112,
   "metadata": {
    "collapsed": true
   },
   "outputs": [],
   "source": [
    "[resultBlabel50, resultBprob50]=Apply1DBayesianClassifier(queries,muF50,muM50,sigmaF50,sigmaM50,NF50,NM50)"
   ]
  },
  {
   "cell_type": "code",
   "execution_count": 113,
   "metadata": {},
   "outputs": [
    {
     "data": {
      "text/plain": [
       "[array(['Female', 'Female', 'Female', 'Male', 'Male', 'Male'], dtype=object),\n",
       " array([ 0.99990803,  0.99556458,  0.88316529,  0.29340843,  0.03587324,\n",
       "         0.00540894])]"
      ]
     },
     "execution_count": 113,
     "metadata": {},
     "output_type": "execute_result"
    }
   ],
   "source": [
    "[resultBlabel50, resultBprob50]"
   ]
  },
  {
   "cell_type": "markdown",
   "metadata": {},
   "source": [
    "resultHprob50 = []\n",
    "for q in queries:\n",
    "    b = BF(q,B,xmin,xmax);\n",
    "    print q,b,HF50[b],HM50[b];\n",
    "    resultHprob50.append(HF50[b]*1.0/(HF50[b]+HM50[b]));\n",
    "\n",
    "M50 = []\n",
    "F50 = []\n",
    "for i,x in enumerate(X50):\n",
    "    if T50[i]=='Female':\n",
    "        F50.append(X50[i])\n",
    "    elif T50[i]=='Male':\n",
    "        M50.append(X50[i])\n",
    "    else:\n",
    "        print 'error'\n",
    "    \n",
    "muF50 = np.mean(F50)\n",
    "sigmaF50 = np.std(F50,ddof=1)\n",
    "NF50 = len(F50)\n",
    "print muF50,sigmaF50,NF50\n",
    "\n",
    "muM50 = np.mean(M50)\n",
    "sigmaM50 = np.std(M50,ddof=1)\n",
    "NM50 = len(M50)\n",
    "print muM50,sigmaM50,NM50\n",
    "\n",
    "resultBprob50 = []\n",
    "for q in queries:\n",
    "    bpF50 = bprob(q,muF50,sigmaF50);\n",
    "    bpM50 = bprob(q,muM50,sigmaM50);\n",
    "    resultBprob50.append((NF50*1.0*bpF50)/(NF50*bpF50+NM50*bpM50));\n",
    "    \n",
    "resultBprob50 \n",
    "#writeExcelData([xmin,xmax],excelfile,'Classifiers - Partial Data',1,2)\n",
    "#writeExcelData([HF50],excelfile,'Classifiers - Partial Data',5,3)\n",
    "#writeExcelData([HM50],excelfile,'Classifiers - Partial Data',6,3)\n",
    "#writeExcelData([muF50,muM50],excelfile,'Classifiers - Partial Data',8,3)\n",
    "#writeExcelData([sigmaF50,sigmaM50],excelfile,'Classifiers - Partial Data',11,3)\n",
    "#writeExcelData([NF50,NM50],excelfile,'Classifiers - Partial Data',14,3)\n",
    "#writeExcelData([resultHprob50],excelfile,'Classifiers - Partial Data',18,2)\n",
    "#writeExcelData([resultBprob50],excelfile,'Classifiers - Partial Data',19,2)\n",
    "print resultHprob50"
   ]
  }
 ],
 "metadata": {
  "kernelspec": {
   "display_name": "Python 2",
   "language": "python",
   "name": "python2"
  },
  "language_info": {
   "codemirror_mode": {
    "name": "ipython",
    "version": 2
   },
   "file_extension": ".py",
   "mimetype": "text/x-python",
   "name": "python",
   "nbconvert_exporter": "python",
   "pygments_lexer": "ipython2",
   "version": "2.7.13"
  }
 },
 "nbformat": 4,
 "nbformat_minor": 2
}
