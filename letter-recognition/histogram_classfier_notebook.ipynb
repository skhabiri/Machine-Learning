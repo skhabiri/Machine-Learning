{
 "cells": [
  {
   "cell_type": "code",
   "execution_count": 500,
   "metadata": {
    "collapsed": false
   },
   "outputs": [],
   "source": [
    "import numpy as np\n",
    "\n",
    "def bin_size(N):\n",
    "    '''\n",
    "    This function calculates bin size\n",
    "    \n",
    "    **************\n",
    "    Input: N - number of samples (int)\n",
    "    \n",
    "    Output: B - bin size (int)\n",
    "    '''\n",
    "    return int(2*np.power(int(N),1/3.0))\n",
    "    \n",
    "\n",
    "def bin_indexing(X,B,xmin,xmax):\n",
    "    '''\n",
    "    This function calculates bin index\n",
    "    \n",
    "    **************\n",
    "    Input: X - input value (matrix,array)\n",
    "           B - bin size (int)\n",
    "           xmin, xmax - maximum and minimum value of input (numeric)\n",
    "    \n",
    "    Output: Bin index\n",
    "    '''\n",
    "    return np.round((B-1)*(X-xmin)/((1.0)*(xmax-xmin)))\n",
    "\n",
    "def get_labels(T):\n",
    "    '''\n",
    "    This function computes set of class labels\n",
    "    \n",
    "    **************\n",
    "    Input: T - class labels (matrix,array)\n",
    "           \n",
    "    Output: set of class labels\n",
    "    '''\n",
    "    return set(T)\n",
    "\n",
    "def hist_preprocess(B,no_features,labels):\n",
    "    '''\n",
    "    This function creates histogram dictionary\n",
    "    \n",
    "    **************\n",
    "    Input: B - bin size (int)\n",
    "           no_features - number of features (int)\n",
    "           labels - class labels (anytype)\n",
    "    \n",
    "    Output: H - histogram dictionary (dictionary)\n",
    "    '''\n",
    "    H = {str(key):{} for key in labels}\n",
    "    return H\n",
    "\n",
    "def min_max(X,no_features):\n",
    "    '''\n",
    "    This function calculates min and max array for each feature from the given input\n",
    "    \n",
    "    **************\n",
    "    Input: X - input (matrix)\n",
    "           no_features - number of features (int)\n",
    "    \n",
    "    Output: feature_min - array of min value for each feature (array)\n",
    "            feature_max - array of max value for each feature (array)\n",
    "    '''\n",
    "    x = np.transpose(X)\n",
    "    feature_min = np.empty(no_features)\n",
    "    feature_max = np.empty(no_features)\n",
    "    for i in xrange(0,no_features):\n",
    "        feature_min[i] = np.min(x[i])\n",
    "        feature_max[i] = np.max(x[i])\n",
    "    return feature_min, feature_max\n",
    "\n",
    "def histogram_train(X,T,H,B,feature_min,feature_max):\n",
    "    '''\n",
    "    This function trains histogram classfier\n",
    "    \n",
    "    **************\n",
    "    Input: X - input (matrix)\n",
    "           T - class labels (matrix or array)\n",
    "           H - histogram dictionary\n",
    "           feature_min - array of min value for each feature (array)\n",
    "           feature_max - array of max value for each feature (array)\n",
    "    \n",
    "    Output: void\n",
    "    '''\n",
    "    for index,x in enumerate(X):\n",
    "        bin_idx = str(bin_indexing(x,B,feature_min,feature_max))\n",
    "        H[str(T[index])].setdefault(bin_idx, 0)\n",
    "        H[str(T[index])][bin_idx]+=1\n",
    "        \n",
    "def histogram_class(queries,labels,B,feature_min,feature_max):\n",
    "    '''\n",
    "    This function classifies label based on the given query\n",
    "    \n",
    "    **************\n",
    "    Input: queries - query input (1D array)\n",
    "           labels - class labels (1D array)\n",
    "           H - histogram dictionary\n",
    "           feature_min - array of min value for each feature\n",
    "           feature_max - array of max value for each feature\n",
    "    \n",
    "    Output: result - dictionary with \n",
    "                labels => key\n",
    "                number in histogram => value\n",
    "            result_label - class label (one value)\n",
    "    '''\n",
    "    result = {}\n",
    "    bin_idx = str(bin_indexing(queries,B,feature_min,feature_max))\n",
    "    for label in labels:\n",
    "        if bin_idx in H[label]:\n",
    "            result[label] = H[label][bin_idx]\n",
    "        else:\n",
    "            result[label] = 0\n",
    "    result_label = [k for k, v in result.iteritems() if v == np.max(result.values())]\n",
    "    return result,result_label\n",
    "    \n",
    "\n",
    "\n",
    "    "
   ]
  },
  {
   "cell_type": "code",
   "execution_count": 501,
   "metadata": {
    "collapsed": false
   },
   "outputs": [],
   "source": [
    "import numpy as np\n",
    "\n",
    "#\n",
    "# This function reads letter recognition dataset\n",
    "# Dataset location: http://archive.ics.uci.edu/ml/datasets/Letter+Recognition\n",
    "#\n",
    "def read_letter_recognition_dataset(data_file_name):\n",
    "    num_rows=20000\n",
    "    num_cols=16\n",
    "    X = np.empty((num_rows, num_cols))\n",
    "    T = []\n",
    "    r = 0\n",
    "    data_file = open(data_file_name, 'r')\n",
    "    for line in data_file:\n",
    "        c = 0\n",
    "        for field in line.strip().split(','):\n",
    "            if c == 0:\n",
    "                T.append(field)\n",
    "            else:\n",
    "                x_col = c - 1\n",
    "                X[r][x_col] = field\n",
    "            c += 1\n",
    "        r += 1\n",
    "            #print (field)\n",
    "\n",
    "    return X,T"
   ]
  },
  {
   "cell_type": "code",
   "execution_count": 502,
   "metadata": {
    "collapsed": false
   },
   "outputs": [],
   "source": [
    "X,T = read_letter_recognition_dataset('./datasets/letter-recognition/letter-recognition.data')"
   ]
  },
  {
   "cell_type": "code",
   "execution_count": 504,
   "metadata": {
    "collapsed": false
   },
   "outputs": [],
   "source": [
    "### Set parameters\n",
    "\n",
    "x_size  = np.shape(X); # dimensions of input array\n",
    "labels = get_labels(T); # get labels\n",
    "no_features = x_size[1] # get number of features\n",
    "B = bin_size(no_features) # get bin number\n",
    "H = hist_preprocess(B,no_features,labels) # histogram dictionary\n",
    "feature_min, feature_max = min_max(X,no_features) # min and min for each feature\n"
   ]
  },
  {
   "cell_type": "code",
   "execution_count": 505,
   "metadata": {
    "collapsed": false
   },
   "outputs": [],
   "source": [
    "### Train histogram\n",
    "histogram_train(X,T,H,B,feature_min,feature_max)\n"
   ]
  },
  {
   "cell_type": "code",
   "execution_count": 507,
   "metadata": {
    "collapsed": false
   },
   "outputs": [
    {
     "name": "stdout",
     "output_type": "stream",
     "text": [
      "('Histogram:', ['O'], 'True label:', 'O')\n"
     ]
    }
   ],
   "source": [
    "### Test histogram\n",
    "idx = 11\n",
    "queries = X[idx] # feature vector\n",
    "label_q = T[idx] # label of query\n",
    "hist_dic, hist_label = histogram_class(queries,labels,B,feature_min,feature_max)\n",
    "print (\"Histogram:\",hist_label,\"True label:\",label_q)"
   ]
  },
  {
   "cell_type": "code",
   "execution_count": null,
   "metadata": {
    "collapsed": true
   },
   "outputs": [],
   "source": []
  }
 ],
 "metadata": {
  "anaconda-cloud": {},
  "kernelspec": {
   "display_name": "Python [conda env:ucsc]",
   "language": "python",
   "name": "conda-env-ucsc-py"
  },
  "language_info": {
   "codemirror_mode": {
    "name": "ipython",
    "version": 2
   },
   "file_extension": ".py",
   "mimetype": "text/x-python",
   "name": "python",
   "nbconvert_exporter": "python",
   "pygments_lexer": "ipython2",
   "version": "2.7.13"
  }
 },
 "nbformat": 4,
 "nbformat_minor": 1
}
