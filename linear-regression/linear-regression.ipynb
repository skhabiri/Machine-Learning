{
 "cells": [
  {
   "cell_type": "code",
   "execution_count": 75,
   "metadata": {
    "collapsed": true
   },
   "outputs": [],
   "source": [
    "import numpy as np\n",
    "import math\n",
    "import scipy.stats\n",
    "import matplotlib.pyplot as plt"
   ]
  },
  {
   "cell_type": "code",
   "execution_count": 76,
   "metadata": {
    "collapsed": true
   },
   "outputs": [],
   "source": [
    "def readExcelSheet1(excelfile):\n",
    "    from pandas import read_excel\n",
    "    return (read_excel(excelfile)).values"
   ]
  },
  {
   "cell_type": "code",
   "execution_count": 77,
   "metadata": {
    "collapsed": true
   },
   "outputs": [],
   "source": [
    "def readExcelRange(excelfile,sheetname=\"Sheet1\",startrow=1,endrow=1,startcol=1,endcol=1):\n",
    "    from pandas import read_excel\n",
    "    values=(read_excel(excelfile, sheetname,header=None)).values;\n",
    "    return values[startrow-1:endrow,startcol-1:endcol]"
   ]
  },
  {
   "cell_type": "code",
   "execution_count": 78,
   "metadata": {
    "collapsed": true
   },
   "outputs": [],
   "source": [
    "def readExcel(excelfile,**args):\n",
    "    if args:\n",
    "        data=readExcelRange(excelfile,**args)\n",
    "    else:\n",
    "        data=readExcelSheet1(excelfile)\n",
    "    if data.shape==(1,1):\n",
    "        return data[0,0]\n",
    "    elif (data.shape)[0]==1:\n",
    "        return data[0]\n",
    "    else:\n",
    "        return data"
   ]
  },
  {
   "cell_type": "code",
   "execution_count": 79,
   "metadata": {
    "collapsed": true
   },
   "outputs": [],
   "source": [
    "def writeExcelData(x,excelfile,sheetname,startrow,startcol):\n",
    "    from pandas import DataFrame, ExcelWriter\n",
    "    from openpyxl import load_workbook\n",
    "    df=DataFrame(x)\n",
    "    book = load_workbook(excelfile)\n",
    "    writer = ExcelWriter(excelfile, engine='openpyxl') \n",
    "    writer.book = book\n",
    "    writer.sheets = dict((ws.title, ws) for ws in book.worksheets)\n",
    "    df.to_excel(writer, sheet_name=sheetname,startrow=startrow-1, startcol=startcol-1, header=False, index=False)\n",
    "    writer.save()\n",
    "    writer.close()"
   ]
  },
  {
   "cell_type": "code",
   "execution_count": 80,
   "metadata": {
    "collapsed": true
   },
   "outputs": [],
   "source": [
    "def getSheetNames(excelfile):\n",
    "    from pandas import ExcelFile\n",
    "    return (ExcelFile(excelfile)).sheet_names"
   ]
  },
  {
   "cell_type": "code",
   "execution_count": 81,
   "metadata": {
    "collapsed": true
   },
   "outputs": [],
   "source": [
    "def linearRegressionTraining(X,T): #X is w/o x0. T is from 0 to m for m class labels\n",
    "    X0 = np.full((len(X),1), 1, dtype=np.float)\n",
    "    XC = np.hstack((X0,X))\n",
    "    #Calculate the pseudo-inverse Matrix of X, by using numpy\n",
    "    X_d = np.linalg.pinv(XC)\n",
    "    tmax = np.amax(T);\n",
    "    tmin = np.amin(T);\n",
    "    if(tmax-tmin>2): #non binary multiclass\n",
    "        TM= np.full((len(T),tmax-tmin+1), -1, dtype=np.float)\n",
    "        for i,t in enumerate(T):\n",
    "            TM[i][t]=1.0\n",
    "    else:\n",
    "        TM=T\n",
    "    #Calculate the vector of weights w as multiplication of X_d and y\n",
    "    w = np.dot(X_d,TM)\n",
    "    return w"
   ]
  },
  {
   "cell_type": "code",
   "execution_count": 82,
   "metadata": {
    "collapsed": true
   },
   "outputs": [],
   "source": [
    "def applyLinearClassifier(X,W,th,num): #th is threshold. num is # of class labels\n",
    "    X0 = np.full((len(X),1), 1, dtype=np.float)\n",
    "    XC = np.hstack((X0,X))\n",
    "    TP = np.dot(XC,W)\n",
    "    TH = np.full((len(TP),), th, dtype=np.float)\n",
    "    resultlabel = np.full((len(TP),), 0, dtype=np.int)\n",
    "    if(num==2):        \n",
    "        indicesp=TP>TH;\n",
    "        indicesn=TP<TH;\n",
    "        resultlabel[indicesp]=1;\n",
    "        resultlabel[indicesn]=-1;\n",
    "        #countp= np.sum(indicesp)\n",
    "        #countn= np.sum(indicesn)\n",
    "        #count = np.array([countn,countp])\n",
    "        print(resultlabel[1:5],resultlabel.shape)\n",
    "    else:\n",
    "        resultlabel = np.argmax(TP, axis=1) #index of maximum on horizental axis\n",
    "        #count = np.full((num,),0,dtype=np.int)\n",
    "        #for i in range(num):\n",
    "            #count[i]= (resultlabel==i).sum()\n",
    "        print(resultlabel[1:5],resultlabel.shape)\n",
    "    return resultlabel"
   ]
  },
  {
   "cell_type": "code",
   "execution_count": 83,
   "metadata": {
    "collapsed": true
   },
   "outputs": [],
   "source": [
    "def computeConfusionMatrix(resultlabel,T,num): #T is ground truth labels. num is # of class labels\n",
    "    matrix = np.full((num,num), 0, dtype=np.int)\n",
    "    for truth in range(num):\n",
    "        for predict in range(num):\n",
    "            count = np.full((len(resultlabel),), 0, dtype=np.int)\n",
    "            count[((resultlabel==predict)&(T==truth))]=1\n",
    "            matrix[truth][predict]=count.sum()\n",
    "            \n",
    "    ppv_denom = np.sum(matrix,axis=0) #it's a vector that sums each column\n",
    "    ppv_top = np.full((num,), 0, dtype=np.int)\n",
    "    for i in range(num):\n",
    "        ppv_top[i]= matrix[i][i]\n",
    "    ppv = ppv_top*100.0/ppv_denom; #a vector for all classes\n",
    "    ppvmax_ind = np.argmax(ppv)\n",
    "    ppvmin_ind = np.argmin(ppv)\n",
    "\n",
    "    return matrix,ppv,ppvmax_ind,ppvmin_ind"
   ]
  },
  {
   "cell_type": "code",
   "execution_count": 84,
   "metadata": {
    "collapsed": true
   },
   "outputs": [],
   "source": [
    "excelfile=r\"/Users/gholami/Documents/ucsc machine learning/assignment 4/Assignment_4_Data_and_Template.xlsx\";\n",
    "#excelfile_c=r\"/Users/gholami/Documents/ucsc machine learning/assignment 4/Assignment_4_Data_and_Template copy.xlsx\";"
   ]
  },
  {
   "cell_type": "code",
   "execution_count": 85,
   "metadata": {
    "scrolled": true
   },
   "outputs": [
    {
     "data": {
      "text/plain": [
       "[u'Training Data', u'Classifiers', u'To be classified', u'Performance']"
      ]
     },
     "execution_count": 85,
     "metadata": {},
     "output_type": "execute_result"
    }
   ],
   "source": [
    "sheets=getSheetNames(excelfile);sheets"
   ]
  },
  {
   "cell_type": "code",
   "execution_count": null,
   "metadata": {
    "collapsed": true
   },
   "outputs": [],
   "source": [
    "data=readExcel(excelfile)\n",
    "trainpct=0.75;\n",
    "permuted_indices = np.random.permutation(len(data)); #divide data into two subset train and test\n",
    "train = int(trainpct*len(data))\n",
    "training_i = permuted_indices[:train]\n",
    "test_i = permuted_indices[train:]\n",
    "\n",
    "X_full = np.array(data[:,:15],dtype=float);\n",
    "T_full=data[:,15]; #binary class labels\n",
    "M_full=data[:,16]; #multi class labels\n",
    "\n",
    "X_test = X_full[test_i]\n",
    "T_test = T_full[test_i]\n",
    "M_test = M_full[test_i]\n",
    "\n",
    "X = X_full[training_i]\n",
    "T = T_full[training_i]\n",
    "M = M_full[training_i]\n",
    "\n",
    "print (data.shape, X.shape,training_i.shape,test_i.shape )"
   ]
  },
  {
   "cell_type": "markdown",
   "metadata": {},
   "source": [
    "count_b = countLabel(T_test,2)\n",
    "count_b[0]=len(T_test)-count_b[1]\n",
    "\n",
    "count_m = countLabel(M_test,6)\n",
    "print(count_b,count_b.shape)\n",
    "print(count_m,count_m.shape)"
   ]
  },
  {
   "cell_type": "code",
   "execution_count": 86,
   "metadata": {},
   "outputs": [
    {
     "name": "stdout",
     "output_type": "stream",
     "text": [
      "[[ 154.  213.  201. ...,    0.    1.    0.]\n",
      " [ 279.   91.  176. ...,    1.    0.    0.]\n",
      " [ 145.  223.  178. ...,    1.    0.    0.]\n",
      " ..., \n",
      " [ 219.  224.  214. ...,    0.    1.    0.]\n",
      " [ 295.  241.  291. ...,    0.    1.    0.]\n",
      " [ 208.  199.  132. ...,    1.    0.    0.]]\n"
     ]
    }
   ],
   "source": [
    "print (X_test)"
   ]
  },
  {
   "cell_type": "code",
   "execution_count": 87,
   "metadata": {},
   "outputs": [
    {
     "name": "stdout",
     "output_type": "stream",
     "text": [
      "[2 5 5 ..., 0 2 3]\n"
     ]
    }
   ],
   "source": [
    "print (M_test)"
   ]
  },
  {
   "cell_type": "code",
   "execution_count": 88,
   "metadata": {
    "collapsed": true
   },
   "outputs": [],
   "source": [
    "w = linearRegressionTraining(X,T)\n",
    "wM = linearRegressionTraining(X,M)"
   ]
  },
  {
   "cell_type": "code",
   "execution_count": 89,
   "metadata": {
    "collapsed": true
   },
   "outputs": [],
   "source": [
    "writeExcelData(w,excelfile,'Classifiers',5,1)\n",
    "writeExcelData(wM,excelfile,'Classifiers',5,5)"
   ]
  },
  {
   "cell_type": "code",
   "execution_count": 90,
   "metadata": {
    "collapsed": true
   },
   "outputs": [],
   "source": [
    "queries=(readExcel(excelfile,\n",
    "                  sheetname='To be classified',\n",
    "                  startrow=5,\n",
    "                  endrow=54,\n",
    "                  startcol=1,\n",
    "                  endcol=15)).astype(float);"
   ]
  },
  {
   "cell_type": "code",
   "execution_count": 91,
   "metadata": {},
   "outputs": [
    {
     "name": "stdout",
     "output_type": "stream",
     "text": [
      "(array([-1,  1, -1, -1]), (50,))\n",
      "(array([4, 0, 4, 4]), (50,))\n",
      "(array([-1, -1,  1, -1, -1, -1,  1, -1, -1, -1]), array([1, 4, 0, 4, 4, 5, 0, 4, 5, 1]), (50,))\n"
     ]
    }
   ],
   "source": [
    "resultlabel_qb=applyLinearClassifier(queries,w,0,2)\n",
    "resultlabel_qm=applyLinearClassifier(queries,wM,0,6)\n",
    "print (resultlabel_qb[0:10],resultlabel_qm[0:10], resultlabel_qm.shape)"
   ]
  },
  {
   "cell_type": "code",
   "execution_count": 92,
   "metadata": {
    "collapsed": true
   },
   "outputs": [],
   "source": [
    "writeExcelData(resultlabel_qb,excelfile,'To be classified',5,16)\n",
    "writeExcelData(resultlabel_qm,excelfile,'To be classified',5,17)"
   ]
  },
  {
   "cell_type": "code",
   "execution_count": 93,
   "metadata": {},
   "outputs": [
    {
     "name": "stdout",
     "output_type": "stream",
     "text": [
      "(array([-1, -1, -1,  1]), (1650,))\n",
      "(526, 825, 280, 19, 1650)\n"
     ]
    }
   ],
   "source": [
    "resultlabel_tb = applyLinearClassifier(X_test,w,0,2)\n",
    "TP = np.full(np.alen(T_test),0, dtype=int);\n",
    "TP[((resultlabel_tb==1)&(T_test==1))]=1\n",
    "TP_num=TP.sum() #true positive\n",
    "\n",
    "TN = np.full(np.alen(T_test),0, dtype=int);\n",
    "TN[((resultlabel_tb==-1)&(T_test==-1))]=1\n",
    "TN_num=TN.sum()  #true negative\n",
    "\n",
    "FN = np.full(np.alen(T_test),0, dtype=int);\n",
    "FN[((resultlabel_tb==-1)&(T_test==1))]=1\n",
    "FN_num=FN.sum()  #false negative\n",
    "\n",
    "FP = np.full(np.alen(T_test),0, dtype=int);\n",
    "FP[((resultlabel_tb==1)&(T_test==-1))]=1\n",
    "FP_num=FP.sum()  #false positive\n",
    "\n",
    "print (TP_num,TN_num,FN_num,FP_num,TP_num+TN_num+FN_num+FP_num)"
   ]
  },
  {
   "cell_type": "code",
   "execution_count": 94,
   "metadata": {},
   "outputs": [
    {
     "name": "stdout",
     "output_type": "stream",
     "text": [
      "0.818787878788 0.652605459057 0.977488151659 0.965137614679\n"
     ]
    }
   ],
   "source": [
    "writeExcelData(np.reshape(TN_num,(1,1)),excelfile,'Performance',10,3)\n",
    "writeExcelData(np.reshape(FP_num,(1,1)),excelfile,'Performance',10,4)\n",
    "writeExcelData(np.reshape(FN_num,(1,1)),excelfile,'Performance',11,3)\n",
    "writeExcelData(np.reshape(TP_num,(1,1)),excelfile,'Performance',11,4)\n",
    "accB=(TP_num+TN_num)*1.0/(TP_num+TN_num+FN_num+FP_num);\n",
    "sensB=TP_num*1.0/(TP_num+FN_num);\n",
    "specB=TN_num*1.0/(TN_num+FP_num);\n",
    "ppvB=TP_num*1.0/(TP_num+FP_num);\n",
    "print accB,sensB,specB,ppvB\n",
    "writeExcelData(np.reshape(accB,(1,1)),excelfile,'Performance',8,7)\n",
    "writeExcelData(np.reshape(sensB,(1,1)),excelfile,'Performance',9,7)\n",
    "writeExcelData(np.reshape(specB,(1,1)),excelfile,'Performance',10,7)\n",
    "writeExcelData(np.reshape(ppvB,(1,1)),excelfile,'Performance',11,7)"
   ]
  },
  {
   "cell_type": "code",
   "execution_count": 95,
   "metadata": {},
   "outputs": [
    {
     "name": "stdout",
     "output_type": "stream",
     "text": [
      "(array([5, 1, 4, 0]), (1650,))\n"
     ]
    }
   ],
   "source": [
    "resultlabel_tm = applyLinearClassifier(X_test,wM,0,6)"
   ]
  },
  {
   "cell_type": "code",
   "execution_count": 96,
   "metadata": {},
   "outputs": [
    {
     "name": "stdout",
     "output_type": "stream",
     "text": [
      "(array([[159,   1, 112,   0,   0,  11],\n",
      "       [  0, 217,   0,  22,   0,  30],\n",
      "       [ 39,   0, 210,   0,   0,   5],\n",
      "       [  6, 156,   1,  21,   0, 110],\n",
      "       [  0,   3,   0,   0, 264,   2],\n",
      "       [ 10,  88,   0,   5,   1, 177]]), array([ 74.29906542,  46.66666667,  65.01547988,  43.75      ,\n",
      "        99.62264151,  52.8358209 ]), 4, 3)\n"
     ]
    }
   ],
   "source": [
    "matrix,ppv,high,low=computeConfusionMatrix(resultlabel_tm,M_test,6)\n",
    "print(matrix,ppv,high,low)"
   ]
  },
  {
   "cell_type": "code",
   "execution_count": 97,
   "metadata": {
    "collapsed": true
   },
   "outputs": [],
   "source": [
    "writeExcelData(matrix,excelfile,'Performance',19,3)\n",
    "writeExcelData(np.reshape(ppv[high],(1,1)),excelfile,'Performance',20,12)\n",
    "writeExcelData(np.reshape(ppv[low],(1,1)),excelfile,'Performance',21,12)\n",
    "writeExcelData(np.reshape(high,(1,1)),excelfile,'Performance',20,13)\n",
    "writeExcelData(np.reshape(low,(1,1)),excelfile,'Performance',21,13)"
   ]
  },
  {
   "cell_type": "code",
   "execution_count": 2330,
   "metadata": {
    "collapsed": true
   },
   "outputs": [],
   "source": [
    "#[np.sum(H) for H in [HF, HFrec, HM, HMrec]]"
   ]
  }
 ],
 "metadata": {
  "kernelspec": {
   "display_name": "Python 2",
   "language": "python",
   "name": "python2"
  },
  "language_info": {
   "codemirror_mode": {
    "name": "ipython",
    "version": 2
   },
   "file_extension": ".py",
   "mimetype": "text/x-python",
   "name": "python",
   "nbconvert_exporter": "python",
   "pygments_lexer": "ipython2",
   "version": "2.7.13"
  }
 },
 "nbformat": 4,
 "nbformat_minor": 2
}
